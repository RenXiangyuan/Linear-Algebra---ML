{
 "cells": [
  {
   "cell_type": "code",
   "execution_count": 9,
   "metadata": {},
   "outputs": [
    {
     "data": {
      "text/plain": [
       "kaczmarz_svm (generic function with 1 method)"
      ]
     },
     "execution_count": 9,
     "metadata": {},
     "output_type": "execute_result"
    }
   ],
   "source": [
    "### UCSD ECE269 Winter 2018\n",
    "### Homework Set #6, Programming Assignment \n",
    "### By Alankrita Bhatt and Young-Han Kim\n",
    "\n",
    "### Part (a): Kaczmarz's algorithm\n",
    "\n",
    "function kaczmarz_svm(A,s,iter)\n",
    "    # Your code adapting Kaczmarz for SVM goes here\n",
    "    # A: m by n\n",
    "    # s: m by 1\n",
    "    # x: n by 1\n",
    "    m=length(A[:,1]); # m training data\n",
    "    n=length(A[1,:]); # n dimensional\n",
    "    x=zeros(n,1);     \n",
    "    for it in 1:iter\n",
    "        j = (it-1)%m+1 # j th points \n",
    "        aj=A[j,:]      # a_j\n",
    "        sj=s[j]        # s_j\n",
    "        if (sj*sum(aj.*x)>=1)\n",
    "            continue\n",
    "        end\n",
    "        x = x+(sj-sum(aj.*x))/norm(aj)^2*aj\n",
    "    end\n",
    "    return x;\n",
    "end"
   ]
  },
  {
   "cell_type": "code",
   "execution_count": 10,
   "metadata": {},
   "outputs": [
    {
     "name": "stdout",
     "output_type": "stream",
     "text": [
      "The classification margin of the Kaczmarz SVM is 7.388772691379703.\n"
     ]
    }
   ],
   "source": [
    "### Part (b): running kaczmarz_svm with given A, s and 1000 iterations\n",
    "\n",
    "A = [\n",
    "  4.72    6.64  -1.96  3.02   7.02\n",
    "  6.1     6.18  -3.33  2.74   6.84\n",
    "  4.72    5.42  -0.87  1.24   7.46\n",
    "  5.70    7.5   -1.64  2.71   5.94\n",
    "  2.94    7.28  -2.29  2.16   8.96\n",
    " -4.47    7.86   1.7   3.3   -7.33\n",
    " -5.02    7.28   1.15  1.74  -8.32\n",
    " -5.03    9.35   0.88  2.13  -7.44\n",
    " -5.79    7.77   4.52  2.82  -5.66\n",
    " -3.98    7.41   3.65  3.79  -5.6\n",
    "];\n",
    "\n",
    "s = [1,1,1,1,1,-1,-1,-1,-1,-1];\n",
    "\n",
    "iter = 1000;\n",
    "\n",
    "### Perform SVM using Kaczmarz's algorithm\n",
    "x = kaczmarz_svm(A,s,iter);\n",
    "\n",
    "### Check if all data points are linearly separated by the hyperplane x'*a = 0\n",
    "correct_labels = find(diagm(s)*A*x .>= 0);\n",
    "if length(correct_labels) < length(s)\n",
    "  println(\"Not every point was correctly classified.\");\n",
    "end\n",
    "\n",
    "### Check if all data points are linearly separated by the hyperplane with margin\n",
    "correct_labels_margin = find(diagm(s)*A*x .>= 1);\n",
    "if length(correct_labels_margin) < length(s)\n",
    "  println(\"Not every point was correctly classified with margin.\");\n",
    "end\n",
    "\n",
    "### Print out the margin of classification\n",
    "kaczmarz_margin = 1/vecnorm(x);\n",
    "println(\"The classification margin of the Kaczmarz SVM is \", kaczmarz_margin, \".\");\n"
   ]
  },
  {
   "cell_type": "code",
   "execution_count": 11,
   "metadata": {},
   "outputs": [
    {
     "data": {
      "text/plain": [
       "dykstra_svm (generic function with 1 method)"
      ]
     },
     "execution_count": 11,
     "metadata": {},
     "output_type": "execute_result"
    }
   ],
   "source": [
    "### Part (c): Dykstra's algorithm\n",
    "\n",
    "function dykstra_svm(A,s,iter)\n",
    "    # Your code adapting Kaczmarz for SVM goes here\n",
    "    # A: m by n\n",
    "    # s: m by 1\n",
    "    # x: n by 1\n",
    "    m=length(A[:,1]); # m training data\n",
    "    n=length(A[1,:]); # n dimensional\n",
    "    z=zeros(m,n);\n",
    "    vi=zeros(n,1);     \n",
    "    for it in 1:iter\n",
    "        j = (it-1)%m+1 # j th points\n",
    "        zj=z[j,:]\n",
    "        vtmp=vi-zj\n",
    "        \n",
    "        aj=A[j,:]      # a_j\n",
    "        sj=s[j]        # s_j\n",
    "        if (sj*sum(aj.*vtmp)>=1)\n",
    "            continue\n",
    "        end\n",
    "        vi = vtmp+(sj-sum(aj.*vtmp))/norm(aj)^2*aj\n",
    "        z[j,:]=vi-vtmp\n",
    "    end\n",
    "    return vi;\n",
    "end"
   ]
  },
  {
   "cell_type": "code",
   "execution_count": 12,
   "metadata": {},
   "outputs": [
    {
     "name": "stdout",
     "output_type": "stream",
     "text": [
      "The classification margin of the Dykstra SVM is 7.998813396912122.\n",
      "Dykstra beats Kaczmarz.\n"
     ]
    }
   ],
   "source": [
    "### Part (d): running dykstra_svm with given A, s and 1000 iterations\n",
    "\n",
    "### Perform SVM using Kaczmarz's algorithm\n",
    "x = dykstra_svm(A,s,iter);\n",
    "\n",
    "### Check if all data points are linearly separated by the hyperplane x'*a = 0\n",
    "correct_labels = find(diagm(s)*A*x .>= 0);\n",
    "if length(correct_labels) < length(s)\n",
    "  println(\"Not every point was correctly classified.\");\n",
    "end\n",
    "\n",
    "### Check if all data points are linearly separated by the hyperplane with margin\n",
    "correct_labels_margin = find(diagm(s)*A*x .>= 1);\n",
    "if length(correct_labels_margin) < length(s)\n",
    "  println(\"Not every point was correctly classified with margin.\");\n",
    "end\n",
    "\n",
    "### Print out the margin of classification\n",
    "dykstra_margin = 1/vecnorm(x);\n",
    "println(\"The classification margin of the Dykstra SVM is \", dykstra_margin, \".\");\n",
    "\n",
    "### Compare the results of kaczmarz_svm and dykstra_svm\n",
    "if dykstra_margin > kaczmarz_margin\n",
    "    println(\"Dykstra beats Kaczmarz.\");\n",
    "elseif dykstra_margin < kaczmarz_margin\n",
    "    println(\"Kaczmarz beats Dykstra.\");\n",
    "else\n",
    "    println(\"Both win (or lose)!\");\n",
    "end\n"
   ]
  },
  {
   "cell_type": "code",
   "execution_count": null,
   "metadata": {
    "collapsed": true
   },
   "outputs": [],
   "source": []
  }
 ],
 "metadata": {
  "kernelspec": {
   "display_name": "Julia 0.6.2",
   "language": "julia",
   "name": "julia-0.6"
  },
  "language_info": {
   "file_extension": ".jl",
   "mimetype": "application/julia",
   "name": "julia",
   "version": "0.6.2"
  }
 },
 "nbformat": 4,
 "nbformat_minor": 2
}
