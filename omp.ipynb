{
 "cells": [
  {
   "cell_type": "code",
   "execution_count": 44,
   "metadata": {},
   "outputs": [
    {
     "data": {
      "text/plain": [
       "OMP (generic function with 1 method)"
      ]
     },
     "execution_count": 44,
     "metadata": {},
     "output_type": "execute_result"
    }
   ],
   "source": [
    "### UCSD ECE269 Winter 2018\n",
    "### Homework Set #5, Programming Assignment\n",
    "### By Shouvik Ganguly and Young-Han Kim\n",
    "\n",
    "### Part 1(a): Function definition\n",
    "\n",
    "function OMP(b, thresh, A)\n",
    "    m=length(A[:,1])\n",
    "    n=length(A[1,:])\n",
    "    rt=b#r0\n",
    "    J=[]#J0\n",
    "    Atilt=[]#A~~\n",
    "    #x=zeros(n)\n",
    "    for t=1:m\n",
    "        jt=indmax( abs.(A'*rt)./sum((A'.*A'),2) )\n",
    "        at=A[:,jt]\n",
    "        if t==1\n",
    "            J=[jt]\n",
    "            Atilt=at\n",
    "        else\n",
    "            J=[J jt]\n",
    "            Atilt=[Atilt at]\n",
    "        end        \n",
    "        A[:,jt]=zeros(m)\n",
    "        x=pinv(Atilt)*b\n",
    "        if t==1\n",
    "            bt=Atilt*x[1]\n",
    "        else\n",
    "            bt=Atilt*x\n",
    "        end\n",
    "        rt=b-bt\n",
    "        \n",
    "        if norm(rt)<thresh\n",
    "            #return J,x\n",
    "            break\n",
    "        end\n",
    "    end\n",
    "    return J,x;\n",
    "end      "
   ]
  },
  {
   "cell_type": "markdown",
   "metadata": {},
   "source": [
    "## For efficiency,\n",
    "* I vectorized the calculation, thus I can get rid of the for loop for finding the maximum j\n",
    "* I use build-in function Pinv, which is faster than inv(T'T)T'"
   ]
  },
  {
   "cell_type": "code",
   "execution_count": null,
   "metadata": {
    "collapsed": true
   },
   "outputs": [],
   "source": []
  },
  {
   "cell_type": "code",
   "execution_count": 45,
   "metadata": {},
   "outputs": [],
   "source": [
    "m = 50; N = 1000; kmax = 25;\n",
    "srand(1234);\n",
    "pES = zeros(1, kmax); #probability of error in support\n",
    "avgrelerr = zeros(1, kmax); #average relative error\n",
    "numsim = 100;\n",
    "thresh = 0.01;\n",
    "for k = 1:kmax\n",
    "\n",
    "    relerr = zeros(1, numsim); #relative error at each run\n",
    "    supportdist = zeros(1, numsim); #support distance\n",
    "    \n",
    "    for ii = 1:numsim \n",
    "        A = randn(m, N);\n",
    "        x=zeros(N);\n",
    "        cardinal=[rand(1:N)];x[cardinal[1]]=rand([1,-1])*(rand()*9+1)\n",
    "        while length(cardinal)<k\n",
    "            tmp = rand(1:N)\n",
    "            if !(tmp in cardinal)\n",
    "                x[tmp]=rand([1,-1])*(rand()*9+1)\n",
    "                cardinal=[cardinal tmp]\n",
    "            end\n",
    "        end\n",
    "        b = A*x;\n",
    "        J,xrec = OMP(b, thresh, A);\n",
    "        #compute supportdist[ii] and relerr[ii]\n",
    "        #println(xrec)\n",
    "        #println(x)\n",
    "        relerr[ii]=norm(x-xrec)/norm(x)\n",
    "        supportdist[ii]=( max(length(cardinal),length(J))-length(intersect(cardinal,J)) )/max(length(cardinal),length(J))\n",
    "        \n",
    "    \n",
    "    end\n",
    "    \n",
    "    avgrelerr[k] = mean(relerr);\n",
    "    pES[k] = mean(supportdist);\n",
    "    \n",
    "    println(k)\n",
    "end"
   ]
  },
  {
   "cell_type": "code",
   "execution_count": 51,
   "metadata": {},
   "outputs": [
    {
     "data": {
      "image/png": "[encoded data removed]",
      "text/plain": [
       "PyPlot.Figure(PyObject <matplotlib.figure.Figure object at 0x7f02a5810898>)"
      ]
     },
     "metadata": {},
     "output_type": "display_data"
    },
    {
     "data": {
      "text/plain": [
       "PyObject <matplotlib.text.Text object at 0x7f02a5787048>"
      ]
     },
     "execution_count": 51,
     "metadata": {},
     "output_type": "execute_result"
    }
   ],
   "source": [
    "#Plot your results\n",
    "using PyPlot\n",
    "#plot(1:25, pES, label=\"Probability of error in support\")\n",
    "plot(1:25,pES[:], label=\"Probability of error in support\")\n",
    "plot(1:25, avgrelerr[:], label=\"Average Relative Error\")\n",
    "xlabel(\"sparsity\")\n",
    "ylabel(\"Errors\")\n",
    "\n"
   ]
  },
  {
   "cell_type": "code",
   "execution_count": null,
   "metadata": {
    "collapsed": true
   },
   "outputs": [],
   "source": []
  },
  {
   "cell_type": "code",
   "execution_count": null,
   "metadata": {
    "collapsed": true
   },
   "outputs": [],
   "source": []
  }
 ],
 "metadata": {
  "kernelspec": {
   "display_name": "Julia 0.6.2",
   "language": "julia",
   "name": "julia-0.6"
  },
  "language_info": {
   "file_extension": ".jl",
   "mimetype": "application/julia",
   "name": "julia",
   "version": "0.6.2"
  }
 },
 "nbformat": 4,
 "nbformat_minor": 1
}
